{
  "nbformat": 4,
  "nbformat_minor": 0,
  "metadata": {
    "colab": {
      "provenance": [],
      "gpuType": "T4"
    },
    "kernelspec": {
      "name": "python3",
      "display_name": "Python 3"
    },
    "language_info": {
      "name": "python"
    },
    "accelerator": "GPU"
  },
  "cells": [
    {
      "cell_type": "code",
      "source": [
        "# Install necessary libraries\n",
        "!pip install torch transformers diffusers"
      ,"# Drive Dump: https://drive.google.com/drive/folders/1-4VIsUdbFic4H_r7lVsF655Qf1Vt76IL"
],
      "metadata": {
        "id": "SaXX0MD6kVaa"
      },
      "execution_count": null,
      "outputs": []
    }
  ]
}

